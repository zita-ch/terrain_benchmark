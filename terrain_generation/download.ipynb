{
 "cells": [
  {
   "cell_type": "code",
   "execution_count": 1,
   "id": "4c96a64d",
   "metadata": {},
   "outputs": [],
   "source": [
    "import pandas as pd\n",
    "data = pd.read_csv('data.csv',header=None)"
   ]
  },
  {
   "cell_type": "code",
   "execution_count": 2,
   "id": "c25b80c6",
   "metadata": {},
   "outputs": [
    {
     "name": "stdout",
     "output_type": "stream",
     "text": [
      "https://prd-tnm.s3.amazonaws.com/StagedProducts/Elevation/1/TIFF/historical/n27w099/USGS_1_n27w099_20211103.tif\n"
     ]
    },
    {
     "data": {
      "text/plain": [
       "0     https://prd-tnm.s3.amazonaws.com/StagedProduct...\n",
       "1     https://prd-tnm.s3.amazonaws.com/StagedProduct...\n",
       "2     https://prd-tnm.s3.amazonaws.com/StagedProduct...\n",
       "3     https://prd-tnm.s3.amazonaws.com/StagedProduct...\n",
       "4     https://prd-tnm.s3.amazonaws.com/StagedProduct...\n",
       "                            ...                        \n",
       "67    https://prd-tnm.s3.amazonaws.com/StagedProduct...\n",
       "68    https://prd-tnm.s3.amazonaws.com/StagedProduct...\n",
       "69    https://prd-tnm.s3.amazonaws.com/StagedProduct...\n",
       "70    https://prd-tnm.s3.amazonaws.com/StagedProduct...\n",
       "71    https://prd-tnm.s3.amazonaws.com/StagedProduct...\n",
       "Name: 25, Length: 72, dtype: object"
      ]
     },
     "execution_count": 2,
     "metadata": {},
     "output_type": "execute_result"
    }
   ],
   "source": [
    "urls = data.iloc[:,25]\n",
    "print(urls[0])\n",
    "urls"
   ]
  },
  {
   "cell_type": "code",
   "execution_count": 4,
   "id": "b88124ff",
   "metadata": {},
   "outputs": [
    {
     "name": "stdout",
     "output_type": "stream",
     "text": [
      "47\n",
      "48\n",
      "49\n",
      "50\n",
      "51\n",
      "52\n",
      "53\n",
      "54\n",
      "55\n",
      "56\n",
      "57\n",
      "58\n",
      "59\n",
      "60\n",
      "61\n",
      "62\n",
      "63\n",
      "64\n",
      "65\n",
      "66\n",
      "67\n",
      "68\n",
      "69\n",
      "70\n",
      "71\n",
      "72\n"
     ]
    }
   ],
   "source": [
    "import requests \n",
    "name_id = 46\n",
    "for url in urls[46:]:\n",
    "    r = requests.get(url) \n",
    "    name_id += 1\n",
    "    with open(\"./world_map/\"+str(name_id)+\".tif\", \"wb\") as writer:\n",
    "        writer.write(r.content)\n",
    "    print(name_id)"
   ]
  },
  {
   "cell_type": "code",
   "execution_count": null,
   "id": "890fb53f",
   "metadata": {},
   "outputs": [],
   "source": []
  }
 ],
 "metadata": {
  "kernelspec": {
   "display_name": "Python 3",
   "language": "python",
   "name": "python3"
  },
  "language_info": {
   "codemirror_mode": {
    "name": "ipython",
    "version": 3
   },
   "file_extension": ".py",
   "mimetype": "text/x-python",
   "name": "python",
   "nbconvert_exporter": "python",
   "pygments_lexer": "ipython3",
   "version": "3.6.15"
  }
 },
 "nbformat": 4,
 "nbformat_minor": 5
}
